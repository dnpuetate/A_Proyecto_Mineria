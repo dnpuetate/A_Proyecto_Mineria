{
 "cells": [
  {
   "cell_type": "markdown",
   "metadata": {},
   "source": [
    "# Proyecto Final"
   ]
  },
  {
   "cell_type": "code",
   "execution_count": 1,
   "metadata": {},
   "outputs": [],
   "source": [
    "#Importar librerías \n",
    "import pandas as pd\n",
    "from sklearn.model_selection import train_test_split\n",
    "from sklearn import metrics\n",
    "from sklearn.metrics import mean_absolute_error\n",
    "from sklearn import svm\n",
    "from sklearn.svm import SVR\n",
    "from sklearn.metrics import mean_squared_error\n",
    "import numpy as np\n",
    "import matplotlib.pyplot as plt\n",
    "from sklearn.tree import export_text\n",
    "from sklearn.preprocessing import OneHotEncoder, OrdinalEncoder\n",
    "import seaborn as sn\n",
    "\n",
    "# importar clases extra para modelar\n",
    "from sklearn.linear_model import Lasso\n",
    "from sklearn.pipeline import Pipeline\n",
    "from sklearn.model_selection import GridSearchCV\n",
    "\n",
    "# multivariate imputation\n",
    "from sklearn.impute import KNNImputer\n",
    "\n",
    "# the scaler - for standardisation\n",
    "from sklearn.preprocessing import StandardScaler\n",
    "\n",
    "#Mostrar todas las columnas del dataset usando la funcion max_columns\n",
    "pd.set_option('display.max_columns', None)\n",
    "\n",
    "\n",
    "from sklearn.ensemble import RandomForestClassifier\n",
    "from sklearn.preprocessing import LabelEncoder\n",
    "\n",
    "\n",
    "from sklearn import datasets\n",
    "from sklearn.model_selection import train_test_split\n",
    "from sklearn import metrics\n",
    "\n",
    "from sklearn.neural_network import MLPRegressor\n"
   ]
  },
  {
   "cell_type": "code",
   "execution_count": 2,
   "metadata": {},
   "outputs": [],
   "source": [
    "# constants\n",
    "PATH = 'data.csv'\n"
   ]
  },
  {
   "cell_type": "markdown",
   "metadata": {},
   "source": [
    "# Load data"
   ]
  },
  {
   "cell_type": "code",
   "execution_count": 3,
   "metadata": {},
   "outputs": [],
   "source": [
    "# Importar dataset\n",
    "\n",
    "df = pd.read_csv(\"data.csv\", index_col=\"Date\", parse_dates=True)"
   ]
  },
  {
   "cell_type": "code",
   "execution_count": 4,
   "metadata": {},
   "outputs": [
    {
     "name": "stdout",
     "output_type": "stream",
     "text": [
      "Forma: (1259, 6)\n"
     ]
    },
    {
     "data": {
      "text/html": [
       "<div>\n",
       "<style scoped>\n",
       "    .dataframe tbody tr th:only-of-type {\n",
       "        vertical-align: middle;\n",
       "    }\n",
       "\n",
       "    .dataframe tbody tr th {\n",
       "        vertical-align: top;\n",
       "    }\n",
       "\n",
       "    .dataframe thead th {\n",
       "        text-align: right;\n",
       "    }\n",
       "</style>\n",
       "<table border=\"1\" class=\"dataframe\">\n",
       "  <thead>\n",
       "    <tr style=\"text-align: right;\">\n",
       "      <th></th>\n",
       "      <th>Open</th>\n",
       "      <th>High</th>\n",
       "      <th>Low</th>\n",
       "      <th>Close</th>\n",
       "      <th>Adj Close</th>\n",
       "      <th>Volume</th>\n",
       "    </tr>\n",
       "    <tr>\n",
       "      <th>Date</th>\n",
       "      <th></th>\n",
       "      <th></th>\n",
       "      <th></th>\n",
       "      <th></th>\n",
       "      <th></th>\n",
       "      <th></th>\n",
       "    </tr>\n",
       "  </thead>\n",
       "  <tbody>\n",
       "    <tr>\n",
       "      <th>2013-01-02</th>\n",
       "      <td>357.385559</td>\n",
       "      <td>361.151062</td>\n",
       "      <td>355.959839</td>\n",
       "      <td>359.288177</td>\n",
       "      <td>359.288177</td>\n",
       "      <td>5115500</td>\n",
       "    </tr>\n",
       "    <tr>\n",
       "      <th>2013-01-03</th>\n",
       "      <td>360.122742</td>\n",
       "      <td>363.600128</td>\n",
       "      <td>358.031342</td>\n",
       "      <td>359.496826</td>\n",
       "      <td>359.496826</td>\n",
       "      <td>4666500</td>\n",
       "    </tr>\n",
       "    <tr>\n",
       "      <th>2013-01-04</th>\n",
       "      <td>362.313507</td>\n",
       "      <td>368.339294</td>\n",
       "      <td>361.488861</td>\n",
       "      <td>366.600616</td>\n",
       "      <td>366.600616</td>\n",
       "      <td>5562800</td>\n",
       "    </tr>\n",
       "    <tr>\n",
       "      <th>2013-01-07</th>\n",
       "      <td>365.348755</td>\n",
       "      <td>367.301056</td>\n",
       "      <td>362.929504</td>\n",
       "      <td>365.001007</td>\n",
       "      <td>365.001007</td>\n",
       "      <td>3332900</td>\n",
       "    </tr>\n",
       "    <tr>\n",
       "      <th>2013-01-08</th>\n",
       "      <td>365.393463</td>\n",
       "      <td>365.771027</td>\n",
       "      <td>359.874359</td>\n",
       "      <td>364.280701</td>\n",
       "      <td>364.280701</td>\n",
       "      <td>3373900</td>\n",
       "    </tr>\n",
       "  </tbody>\n",
       "</table>\n",
       "</div>"
      ],
      "text/plain": [
       "                  Open        High         Low       Close   Adj Close  \\\n",
       "Date                                                                     \n",
       "2013-01-02  357.385559  361.151062  355.959839  359.288177  359.288177   \n",
       "2013-01-03  360.122742  363.600128  358.031342  359.496826  359.496826   \n",
       "2013-01-04  362.313507  368.339294  361.488861  366.600616  366.600616   \n",
       "2013-01-07  365.348755  367.301056  362.929504  365.001007  365.001007   \n",
       "2013-01-08  365.393463  365.771027  359.874359  364.280701  364.280701   \n",
       "\n",
       "             Volume  \n",
       "Date                 \n",
       "2013-01-02  5115500  \n",
       "2013-01-03  4666500  \n",
       "2013-01-04  5562800  \n",
       "2013-01-07  3332900  \n",
       "2013-01-08  3373900  "
      ]
     },
     "execution_count": 4,
     "metadata": {},
     "output_type": "execute_result"
    }
   ],
   "source": [
    "#Mostrar los primeros n-registros del dataset \n",
    "\n",
    "print('Forma:', df.shape)\n",
    "df.head()"
   ]
  },
  {
   "cell_type": "code",
   "execution_count": 5,
   "metadata": {},
   "outputs": [],
   "source": [
    "for var in df.columns:\n",
    "    if df[var].isnull().sum() > 1:\n",
    "        print(var, df[var].isnull().sum())"
   ]
  },
  {
   "cell_type": "code",
   "execution_count": 6,
   "metadata": {},
   "outputs": [
    {
     "data": {
      "text/plain": [
       "Open         float64\n",
       "High         float64\n",
       "Low          float64\n",
       "Close        float64\n",
       "Adj Close    float64\n",
       "Volume         int64\n",
       "dtype: object"
      ]
     },
     "execution_count": 6,
     "metadata": {},
     "output_type": "execute_result"
    }
   ],
   "source": [
    "#Tipos de datos\n",
    "df.dtypes"
   ]
  },
  {
   "cell_type": "code",
   "execution_count": 7,
   "metadata": {},
   "outputs": [
    {
     "name": "stdout",
     "output_type": "stream",
     "text": [
      "<class 'pandas.core.frame.DataFrame'>\n",
      "DatetimeIndex: 1259 entries, 2013-01-02 to 2017-12-29\n",
      "Data columns (total 6 columns):\n",
      " #   Column     Non-Null Count  Dtype  \n",
      "---  ------     --------------  -----  \n",
      " 0   Open       1259 non-null   float64\n",
      " 1   High       1259 non-null   float64\n",
      " 2   Low        1259 non-null   float64\n",
      " 3   Close      1259 non-null   float64\n",
      " 4   Adj Close  1259 non-null   float64\n",
      " 5   Volume     1259 non-null   int64  \n",
      "dtypes: float64(5), int64(1)\n",
      "memory usage: 68.9 KB\n"
     ]
    }
   ],
   "source": [
    "df.info()"
   ]
  },
  {
   "cell_type": "markdown",
   "metadata": {},
   "source": [
    "# Standardisation "
   ]
  },
  {
   "cell_type": "code",
   "execution_count": 8,
   "metadata": {},
   "outputs": [],
   "source": [
    "#Estandarización de la columna  #ESTO SE DEBE HACER FUNCION\n",
    "Standariza=(df['Open']-df['Open'].mean())/df['Open'].std()\n",
    "st_open = pd.DataFrame(Standariza)\n",
    "\n",
    "Standariza2=(df['High']-df['High'].mean())/df['High'].std()\n",
    "st_high = pd.DataFrame(Standariza2)\n",
    "\n",
    "Standariza3=(df['Low']-df['Low'].mean())/df['Low'].std()\n",
    "st_low = pd.DataFrame(Standariza3)\n",
    "\n",
    "Standariza4=(df['Close']-df['Close'].mean())/df['Close'].std()\n",
    "st_close = pd.DataFrame(Standariza4)\n",
    "\n",
    "Standariza5=(df['Adj Close']-df['Adj Close'].mean())/df['Adj Close'].std()\n",
    "st_Adj = pd.DataFrame(Standariza5)\n",
    "\n",
    "Standariza6=(df['Volume']-df['Volume'].mean())/df['Volume'].std()\n",
    "st_volume = pd.DataFrame(Standariza6)\n"
   ]
  },
  {
   "cell_type": "code",
   "execution_count": 9,
   "metadata": {},
   "outputs": [],
   "source": [
    "df = pd.concat([st_open, st_high, st_low, st_close, st_Adj, st_volume], axis=1,)"
   ]
  },
  {
   "cell_type": "code",
   "execution_count": 10,
   "metadata": {},
   "outputs": [
    {
     "data": {
      "text/html": [
       "<div>\n",
       "<style scoped>\n",
       "    .dataframe tbody tr th:only-of-type {\n",
       "        vertical-align: middle;\n",
       "    }\n",
       "\n",
       "    .dataframe tbody tr th {\n",
       "        vertical-align: top;\n",
       "    }\n",
       "\n",
       "    .dataframe thead th {\n",
       "        text-align: right;\n",
       "    }\n",
       "</style>\n",
       "<table border=\"1\" class=\"dataframe\">\n",
       "  <thead>\n",
       "    <tr style=\"text-align: right;\">\n",
       "      <th></th>\n",
       "      <th>Open</th>\n",
       "      <th>High</th>\n",
       "      <th>Low</th>\n",
       "      <th>Close</th>\n",
       "      <th>Adj Close</th>\n",
       "      <th>Volume</th>\n",
       "    </tr>\n",
       "    <tr>\n",
       "      <th>Date</th>\n",
       "      <th></th>\n",
       "      <th></th>\n",
       "      <th></th>\n",
       "      <th></th>\n",
       "      <th></th>\n",
       "      <th></th>\n",
       "    </tr>\n",
       "  </thead>\n",
       "  <tbody>\n",
       "    <tr>\n",
       "      <th>2013-01-02</th>\n",
       "      <td>-1.681476</td>\n",
       "      <td>-1.677682</td>\n",
       "      <td>-1.668112</td>\n",
       "      <td>-1.668565</td>\n",
       "      <td>-1.668565</td>\n",
       "      <td>1.615021</td>\n",
       "    </tr>\n",
       "    <tr>\n",
       "      <th>2013-01-03</th>\n",
       "      <td>-1.665891</td>\n",
       "      <td>-1.663816</td>\n",
       "      <td>-1.656257</td>\n",
       "      <td>-1.667379</td>\n",
       "      <td>-1.667379</td>\n",
       "      <td>1.346506</td>\n",
       "    </tr>\n",
       "    <tr>\n",
       "      <th>2013-01-04</th>\n",
       "      <td>-1.653417</td>\n",
       "      <td>-1.636985</td>\n",
       "      <td>-1.636469</td>\n",
       "      <td>-1.626975</td>\n",
       "      <td>-1.626975</td>\n",
       "      <td>1.882519</td>\n",
       "    </tr>\n",
       "    <tr>\n",
       "      <th>2013-01-07</th>\n",
       "      <td>-1.636135</td>\n",
       "      <td>-1.642863</td>\n",
       "      <td>-1.628224</td>\n",
       "      <td>-1.636073</td>\n",
       "      <td>-1.636073</td>\n",
       "      <td>0.548974</td>\n",
       "    </tr>\n",
       "    <tr>\n",
       "      <th>2013-01-08</th>\n",
       "      <td>-1.635880</td>\n",
       "      <td>-1.651525</td>\n",
       "      <td>-1.645709</td>\n",
       "      <td>-1.640170</td>\n",
       "      <td>-1.640170</td>\n",
       "      <td>0.573493</td>\n",
       "    </tr>\n",
       "    <tr>\n",
       "      <th>...</th>\n",
       "      <td>...</td>\n",
       "      <td>...</td>\n",
       "      <td>...</td>\n",
       "      <td>...</td>\n",
       "      <td>...</td>\n",
       "      <td>...</td>\n",
       "    </tr>\n",
       "    <tr>\n",
       "      <th>2017-12-22</th>\n",
       "      <td>2.325369</td>\n",
       "      <td>2.302725</td>\n",
       "      <td>2.357921</td>\n",
       "      <td>2.317488</td>\n",
       "      <td>2.317488</td>\n",
       "      <td>-0.992625</td>\n",
       "    </tr>\n",
       "    <tr>\n",
       "      <th>2017-12-26</th>\n",
       "      <td>2.308060</td>\n",
       "      <td>2.279625</td>\n",
       "      <td>2.305041</td>\n",
       "      <td>2.298264</td>\n",
       "      <td>2.298264</td>\n",
       "      <td>-0.989336</td>\n",
       "    </tr>\n",
       "    <tr>\n",
       "      <th>2017-12-27</th>\n",
       "      <td>2.304188</td>\n",
       "      <td>2.269718</td>\n",
       "      <td>2.292737</td>\n",
       "      <td>2.256346</td>\n",
       "      <td>2.256346</td>\n",
       "      <td>-0.683564</td>\n",
       "    </tr>\n",
       "    <tr>\n",
       "      <th>2017-12-28</th>\n",
       "      <td>2.271221</td>\n",
       "      <td>2.249222</td>\n",
       "      <td>2.273965</td>\n",
       "      <td>2.249350</td>\n",
       "      <td>2.249350</td>\n",
       "      <td>-0.943587</td>\n",
       "    </tr>\n",
       "    <tr>\n",
       "      <th>2017-12-29</th>\n",
       "      <td>2.243436</td>\n",
       "      <td>2.220631</td>\n",
       "      <td>2.274709</td>\n",
       "      <td>2.239454</td>\n",
       "      <td>2.239454</td>\n",
       "      <td>-0.913446</td>\n",
       "    </tr>\n",
       "  </tbody>\n",
       "</table>\n",
       "<p>1259 rows × 6 columns</p>\n",
       "</div>"
      ],
      "text/plain": [
       "                Open      High       Low     Close  Adj Close    Volume\n",
       "Date                                                                   \n",
       "2013-01-02 -1.681476 -1.677682 -1.668112 -1.668565  -1.668565  1.615021\n",
       "2013-01-03 -1.665891 -1.663816 -1.656257 -1.667379  -1.667379  1.346506\n",
       "2013-01-04 -1.653417 -1.636985 -1.636469 -1.626975  -1.626975  1.882519\n",
       "2013-01-07 -1.636135 -1.642863 -1.628224 -1.636073  -1.636073  0.548974\n",
       "2013-01-08 -1.635880 -1.651525 -1.645709 -1.640170  -1.640170  0.573493\n",
       "...              ...       ...       ...       ...        ...       ...\n",
       "2017-12-22  2.325369  2.302725  2.357921  2.317488   2.317488 -0.992625\n",
       "2017-12-26  2.308060  2.279625  2.305041  2.298264   2.298264 -0.989336\n",
       "2017-12-27  2.304188  2.269718  2.292737  2.256346   2.256346 -0.683564\n",
       "2017-12-28  2.271221  2.249222  2.273965  2.249350   2.249350 -0.943587\n",
       "2017-12-29  2.243436  2.220631  2.274709  2.239454   2.239454 -0.913446\n",
       "\n",
       "[1259 rows x 6 columns]"
      ]
     },
     "execution_count": 10,
     "metadata": {},
     "output_type": "execute_result"
    }
   ],
   "source": [
    "df"
   ]
  },
  {
   "cell_type": "code",
   "execution_count": 11,
   "metadata": {},
   "outputs": [
    {
     "data": {
      "text/plain": [
       "Open         float64\n",
       "High         float64\n",
       "Low          float64\n",
       "Close        float64\n",
       "Adj Close    float64\n",
       "Volume       float64\n",
       "dtype: object"
      ]
     },
     "execution_count": 11,
     "metadata": {},
     "output_type": "execute_result"
    }
   ],
   "source": [
    "df.dtypes"
   ]
  },
  {
   "cell_type": "markdown",
   "metadata": {},
   "source": [
    "# Mapa - Selección de caracteristicas"
   ]
  },
  {
   "cell_type": "code",
   "execution_count": 12,
   "metadata": {},
   "outputs": [
    {
     "data": {
      "text/plain": [
       "<AxesSubplot:>"
      ]
     },
     "execution_count": 12,
     "metadata": {},
     "output_type": "execute_result"
    },
    {
     "data": {
      "image/png": "[encoded data removed]",
      "text/plain": [
       "<Figure size 432x288 with 2 Axes>"
      ]
     },
     "metadata": {
      "needs_background": "light"
     },
     "output_type": "display_data"
    }
   ],
   "source": [
    "sn.heatmap(df.corr(), annot=True) "
   ]
  },
  {
   "cell_type": "code",
   "execution_count": 13,
   "metadata": {},
   "outputs": [
    {
     "data": {
      "text/plain": [
       "<AxesSubplot:xlabel='Date'>"
      ]
     },
     "execution_count": 13,
     "metadata": {},
     "output_type": "execute_result"
    },
    {
     "data": {
      "image/png": "[encoded data removed]",
      "text/plain": [
       "<Figure size 432x288 with 1 Axes>"
      ]
     },
     "metadata": {
      "needs_background": "light"
     },
     "output_type": "display_data"
    }
   ],
   "source": [
    "df.plot()"
   ]
  },
  {
   "cell_type": "code",
   "execution_count": 14,
   "metadata": {},
   "outputs": [
    {
     "data": {
      "text/plain": [
       "[<matplotlib.lines.Line2D at 0x12140b07fd0>]"
      ]
     },
     "execution_count": 14,
     "metadata": {},
     "output_type": "execute_result"
    },
    {
     "data": {
      "image/png": "[encoded data removed]",
      "text/plain": [
       "<Figure size 432x288 with 1 Axes>"
      ]
     },
     "metadata": {
      "needs_background": "light"
     },
     "output_type": "display_data"
    }
   ],
   "source": [
    "plt.plot(df.groupby(df.index)[\"Close\"].mean())"
   ]
  },
  {
   "cell_type": "markdown",
   "metadata": {},
   "source": [
    "# KNN imputation"
   ]
  },
  {
   "cell_type": "code",
   "execution_count": 15,
   "metadata": {},
   "outputs": [],
   "source": [
    "#LIMPIAR LOS DATOS\n",
    "# 1. Encontrar variables con datos faltantes\n",
    "for var in df.columns:\n",
    "    if df[var].isnull().sum() > 1:\n",
    "        print(var, df[var].isnull().sum())"
   ]
  },
  {
   "cell_type": "code",
   "execution_count": 16,
   "metadata": {},
   "outputs": [],
   "source": [
    "imputer = KNNImputer(\n",
    "    n_neighbors=10, # the number of neighbours K\n",
    "    weights='distance', # the weighting factor\n",
    "    metric='nan_euclidean', # the metric to find the neighbours\n",
    "    add_indicator=False, # whether to add a missing indicator\n",
    ")\n",
    "\n",
    "imputer2 = KNNImputer(\n",
    "    n_neighbors=1, # the number of neighbours K\n",
    "    weights='distance', # the weighting factor\n",
    "    metric='nan_euclidean', # the metric to find the neighbours\n",
    "    add_indicator=False, # whether to add a missing indicator\n",
    ")"
   ]
  },
  {
   "cell_type": "markdown",
   "metadata": {},
   "source": [
    "# Hallar X y Y "
   ]
  },
  {
   "cell_type": "code",
   "execution_count": 17,
   "metadata": {},
   "outputs": [],
   "source": [
    "#X=df[feature_cols]\n",
    "\n",
    "#y=df['Open']"
   ]
  },
  {
   "cell_type": "markdown",
   "metadata": {},
   "source": [
    "# TEST AND TRAIN"
   ]
  },
  {
   "cell_type": "code",
   "execution_count": 18,
   "metadata": {
    "scrolled": true
   },
   "outputs": [
    {
     "data": {
      "text/plain": [
       "((881, 5), (378, 5))"
      ]
     },
     "execution_count": 18,
     "metadata": {},
     "output_type": "execute_result"
    }
   ],
   "source": [
    "# Separar el conjunto de prueba y de text\n",
    "feature_cols  = ['Open', 'High', 'Low', 'Adj Close', 'Volume']\n",
    "y = ['Close']\n",
    "# Soltar el objetivo de la lista de características\n",
    "#feature.remove('family')\n",
    "X_train, X_test, y_train, y_test = train_test_split(\n",
    "    df[feature_cols],  # solo las caracteristicas (features)\n",
    "    df[y],  # el objetivo (target)\n",
    "    test_size=0.3,  # el porcentaje de obs en el conjunto de prueba\n",
    "    random_state=0)  # for reproducibility\n",
    "\n",
    "X_train.shape, X_test.shape"
   ]
  },
  {
   "cell_type": "code",
   "execution_count": 19,
   "metadata": {},
   "outputs": [
    {
     "data": {
      "text/html": [
       "<div>\n",
       "<style scoped>\n",
       "    .dataframe tbody tr th:only-of-type {\n",
       "        vertical-align: middle;\n",
       "    }\n",
       "\n",
       "    .dataframe tbody tr th {\n",
       "        vertical-align: top;\n",
       "    }\n",
       "\n",
       "    .dataframe thead th {\n",
       "        text-align: right;\n",
       "    }\n",
       "</style>\n",
       "<table border=\"1\" class=\"dataframe\">\n",
       "  <thead>\n",
       "    <tr style=\"text-align: right;\">\n",
       "      <th></th>\n",
       "      <th>Close</th>\n",
       "    </tr>\n",
       "    <tr>\n",
       "      <th>Date</th>\n",
       "      <th></th>\n",
       "    </tr>\n",
       "  </thead>\n",
       "  <tbody>\n",
       "    <tr>\n",
       "      <th>2016-04-13</th>\n",
       "      <td>0.563431</td>\n",
       "    </tr>\n",
       "    <tr>\n",
       "      <th>2016-08-05</th>\n",
       "      <td>0.736903</td>\n",
       "    </tr>\n",
       "    <tr>\n",
       "      <th>2015-04-22</th>\n",
       "      <td>-0.661149</td>\n",
       "    </tr>\n",
       "    <tr>\n",
       "      <th>2014-06-18</th>\n",
       "      <td>-0.581916</td>\n",
       "    </tr>\n",
       "    <tr>\n",
       "      <th>2015-06-12</th>\n",
       "      <td>-0.684372</td>\n",
       "    </tr>\n",
       "    <tr>\n",
       "      <th>...</th>\n",
       "      <td>...</td>\n",
       "    </tr>\n",
       "    <tr>\n",
       "      <th>2016-01-13</th>\n",
       "      <td>0.272453</td>\n",
       "    </tr>\n",
       "    <tr>\n",
       "      <th>2016-04-27</th>\n",
       "      <td>0.302484</td>\n",
       "    </tr>\n",
       "    <tr>\n",
       "      <th>2017-10-30</th>\n",
       "      <td>2.072864</td>\n",
       "    </tr>\n",
       "    <tr>\n",
       "      <th>2015-03-24</th>\n",
       "      <td>-0.486788</td>\n",
       "    </tr>\n",
       "    <tr>\n",
       "      <th>2015-09-21</th>\n",
       "      <td>-0.097924</td>\n",
       "    </tr>\n",
       "  </tbody>\n",
       "</table>\n",
       "<p>881 rows × 1 columns</p>\n",
       "</div>"
      ],
      "text/plain": [
       "               Close\n",
       "Date                \n",
       "2016-04-13  0.563431\n",
       "2016-08-05  0.736903\n",
       "2015-04-22 -0.661149\n",
       "2014-06-18 -0.581916\n",
       "2015-06-12 -0.684372\n",
       "...              ...\n",
       "2016-01-13  0.272453\n",
       "2016-04-27  0.302484\n",
       "2017-10-30  2.072864\n",
       "2015-03-24 -0.486788\n",
       "2015-09-21 -0.097924\n",
       "\n",
       "[881 rows x 1 columns]"
      ]
     },
     "execution_count": 19,
     "metadata": {},
     "output_type": "execute_result"
    }
   ],
   "source": [
    "y_train"
   ]
  },
  {
   "cell_type": "code",
   "execution_count": 20,
   "metadata": {},
   "outputs": [
    {
     "data": {
      "text/html": [
       "<div>\n",
       "<style scoped>\n",
       "    .dataframe tbody tr th:only-of-type {\n",
       "        vertical-align: middle;\n",
       "    }\n",
       "\n",
       "    .dataframe tbody tr th {\n",
       "        vertical-align: top;\n",
       "    }\n",
       "\n",
       "    .dataframe thead th {\n",
       "        text-align: right;\n",
       "    }\n",
       "</style>\n",
       "<table border=\"1\" class=\"dataframe\">\n",
       "  <thead>\n",
       "    <tr style=\"text-align: right;\">\n",
       "      <th></th>\n",
       "      <th>Open</th>\n",
       "      <th>High</th>\n",
       "      <th>Low</th>\n",
       "      <th>Adj Close</th>\n",
       "      <th>Volume</th>\n",
       "    </tr>\n",
       "    <tr>\n",
       "      <th>Date</th>\n",
       "      <th></th>\n",
       "      <th></th>\n",
       "      <th></th>\n",
       "      <th></th>\n",
       "      <th></th>\n",
       "    </tr>\n",
       "  </thead>\n",
       "  <tbody>\n",
       "    <tr>\n",
       "      <th>2016-04-13</th>\n",
       "      <td>0.549198</td>\n",
       "      <td>0.548637</td>\n",
       "      <td>0.554145</td>\n",
       "      <td>0.563431</td>\n",
       "      <td>-0.423301</td>\n",
       "    </tr>\n",
       "    <tr>\n",
       "      <th>2016-08-05</th>\n",
       "      <td>0.689379</td>\n",
       "      <td>0.710899</td>\n",
       "      <td>0.714842</td>\n",
       "      <td>0.736903</td>\n",
       "      <td>-0.367027</td>\n",
       "    </tr>\n",
       "    <tr>\n",
       "      <th>2015-04-22</th>\n",
       "      <td>-0.690249</td>\n",
       "      <td>-0.675755</td>\n",
       "      <td>-0.678716</td>\n",
       "      <td>-0.661149</td>\n",
       "      <td>-0.491178</td>\n",
       "    </tr>\n",
       "    <tr>\n",
       "      <th>2014-06-18</th>\n",
       "      <td>-0.631004</td>\n",
       "      <td>-0.605471</td>\n",
       "      <td>-0.608979</td>\n",
       "      <td>-0.581916</td>\n",
       "      <td>-0.399739</td>\n",
       "    </tr>\n",
       "    <tr>\n",
       "      <th>2015-06-12</th>\n",
       "      <td>-0.689539</td>\n",
       "      <td>-0.704056</td>\n",
       "      <td>-0.671160</td>\n",
       "      <td>-0.684372</td>\n",
       "      <td>-0.872601</td>\n",
       "    </tr>\n",
       "    <tr>\n",
       "      <th>...</th>\n",
       "      <td>...</td>\n",
       "      <td>...</td>\n",
       "      <td>...</td>\n",
       "      <td>...</td>\n",
       "      <td>...</td>\n",
       "    </tr>\n",
       "    <tr>\n",
       "      <th>2016-01-13</th>\n",
       "      <td>0.444945</td>\n",
       "      <td>0.437442</td>\n",
       "      <td>0.292883</td>\n",
       "      <td>0.272453</td>\n",
       "      <td>0.051892</td>\n",
       "    </tr>\n",
       "    <tr>\n",
       "      <th>2016-04-27</th>\n",
       "      <td>0.310800</td>\n",
       "      <td>0.291599</td>\n",
       "      <td>0.257143</td>\n",
       "      <td>0.302484</td>\n",
       "      <td>0.408856</td>\n",
       "    </tr>\n",
       "    <tr>\n",
       "      <th>2017-10-30</th>\n",
       "      <td>2.057136</td>\n",
       "      <td>2.080619</td>\n",
       "      <td>2.060668</td>\n",
       "      <td>2.072864</td>\n",
       "      <td>-0.197246</td>\n",
       "    </tr>\n",
       "    <tr>\n",
       "      <th>2015-03-24</th>\n",
       "      <td>-0.530790</td>\n",
       "      <td>-0.487072</td>\n",
       "      <td>-0.511038</td>\n",
       "      <td>-0.486788</td>\n",
       "      <td>0.100692</td>\n",
       "    </tr>\n",
       "    <tr>\n",
       "      <th>2015-09-21</th>\n",
       "      <td>-0.104219</td>\n",
       "      <td>-0.118813</td>\n",
       "      <td>-0.123009</td>\n",
       "      <td>-0.097924</td>\n",
       "      <td>-0.374622</td>\n",
       "    </tr>\n",
       "  </tbody>\n",
       "</table>\n",
       "<p>881 rows × 5 columns</p>\n",
       "</div>"
      ],
      "text/plain": [
       "                Open      High       Low  Adj Close    Volume\n",
       "Date                                                         \n",
       "2016-04-13  0.549198  0.548637  0.554145   0.563431 -0.423301\n",
       "2016-08-05  0.689379  0.710899  0.714842   0.736903 -0.367027\n",
       "2015-04-22 -0.690249 -0.675755 -0.678716  -0.661149 -0.491178\n",
       "2014-06-18 -0.631004 -0.605471 -0.608979  -0.581916 -0.399739\n",
       "2015-06-12 -0.689539 -0.704056 -0.671160  -0.684372 -0.872601\n",
       "...              ...       ...       ...        ...       ...\n",
       "2016-01-13  0.444945  0.437442  0.292883   0.272453  0.051892\n",
       "2016-04-27  0.310800  0.291599  0.257143   0.302484  0.408856\n",
       "2017-10-30  2.057136  2.080619  2.060668   2.072864 -0.197246\n",
       "2015-03-24 -0.530790 -0.487072 -0.511038  -0.486788  0.100692\n",
       "2015-09-21 -0.104219 -0.118813 -0.123009  -0.097924 -0.374622\n",
       "\n",
       "[881 rows x 5 columns]"
      ]
     },
     "execution_count": 20,
     "metadata": {},
     "output_type": "execute_result"
    }
   ],
   "source": [
    "X_train"
   ]
  },
  {
   "cell_type": "code",
   "execution_count": 21,
   "metadata": {},
   "outputs": [],
   "source": [
    "Date4=pd.DataFrame(y_test.index)"
   ]
  },
  {
   "cell_type": "code",
   "execution_count": 22,
   "metadata": {},
   "outputs": [
    {
     "data": {
      "text/plain": [
       "KNNImputer(n_neighbors=10, weights='distance')"
      ]
     },
     "execution_count": 22,
     "metadata": {},
     "output_type": "execute_result"
    }
   ],
   "source": [
    "imputer.fit(X_train)\n"
   ]
  },
  {
   "cell_type": "code",
   "execution_count": 23,
   "metadata": {},
   "outputs": [
    {
     "data": {
      "text/plain": [
       "KNNImputer(n_neighbors=1, weights='distance')"
      ]
     },
     "execution_count": 23,
     "metadata": {},
     "output_type": "execute_result"
    }
   ],
   "source": [
    "imputer2.fit(y_train)"
   ]
  },
  {
   "cell_type": "code",
   "execution_count": 24,
   "metadata": {
    "scrolled": true
   },
   "outputs": [
    {
     "data": {
      "text/html": [
       "<div>\n",
       "<style scoped>\n",
       "    .dataframe tbody tr th:only-of-type {\n",
       "        vertical-align: middle;\n",
       "    }\n",
       "\n",
       "    .dataframe tbody tr th {\n",
       "        vertical-align: top;\n",
       "    }\n",
       "\n",
       "    .dataframe thead th {\n",
       "        text-align: right;\n",
       "    }\n",
       "</style>\n",
       "<table border=\"1\" class=\"dataframe\">\n",
       "  <thead>\n",
       "    <tr style=\"text-align: right;\">\n",
       "      <th></th>\n",
       "      <th>Open</th>\n",
       "      <th>High</th>\n",
       "      <th>Low</th>\n",
       "      <th>Adj Close</th>\n",
       "      <th>Volume</th>\n",
       "    </tr>\n",
       "  </thead>\n",
       "  <tbody>\n",
       "    <tr>\n",
       "      <th>0</th>\n",
       "      <td>0.549198</td>\n",
       "      <td>0.548637</td>\n",
       "      <td>0.554145</td>\n",
       "      <td>0.563431</td>\n",
       "      <td>-0.423301</td>\n",
       "    </tr>\n",
       "    <tr>\n",
       "      <th>1</th>\n",
       "      <td>0.689379</td>\n",
       "      <td>0.710899</td>\n",
       "      <td>0.714842</td>\n",
       "      <td>0.736903</td>\n",
       "      <td>-0.367027</td>\n",
       "    </tr>\n",
       "    <tr>\n",
       "      <th>2</th>\n",
       "      <td>-0.690249</td>\n",
       "      <td>-0.675755</td>\n",
       "      <td>-0.678716</td>\n",
       "      <td>-0.661149</td>\n",
       "      <td>-0.491178</td>\n",
       "    </tr>\n",
       "    <tr>\n",
       "      <th>3</th>\n",
       "      <td>-0.631004</td>\n",
       "      <td>-0.605471</td>\n",
       "      <td>-0.608979</td>\n",
       "      <td>-0.581916</td>\n",
       "      <td>-0.399739</td>\n",
       "    </tr>\n",
       "    <tr>\n",
       "      <th>4</th>\n",
       "      <td>-0.689539</td>\n",
       "      <td>-0.704056</td>\n",
       "      <td>-0.671160</td>\n",
       "      <td>-0.684372</td>\n",
       "      <td>-0.872601</td>\n",
       "    </tr>\n",
       "  </tbody>\n",
       "</table>\n",
       "</div>"
      ],
      "text/plain": [
       "       Open      High       Low  Adj Close    Volume\n",
       "0  0.549198  0.548637  0.554145   0.563431 -0.423301\n",
       "1  0.689379  0.710899  0.714842   0.736903 -0.367027\n",
       "2 -0.690249 -0.675755 -0.678716  -0.661149 -0.491178\n",
       "3 -0.631004 -0.605471 -0.608979  -0.581916 -0.399739\n",
       "4 -0.689539 -0.704056 -0.671160  -0.684372 -0.872601"
      ]
     },
     "execution_count": 24,
     "metadata": {},
     "output_type": "execute_result"
    }
   ],
   "source": [
    "train_t = imputer.transform(X_train)\n",
    "test_t = imputer.transform(X_test)\n",
    "\n",
    "# sklearn devuelve una matriz Numpy\n",
    "# hacer un marco de datos\n",
    "X_train = pd.DataFrame(train_t, columns=X_train.columns)\n",
    "X_test = pd.DataFrame(test_t, columns=X_test.columns)\n",
    "\n",
    "X_train.head()\n"
   ]
  },
  {
   "cell_type": "code",
   "execution_count": 25,
   "metadata": {},
   "outputs": [
    {
     "data": {
      "text/html": [
       "<div>\n",
       "<style scoped>\n",
       "    .dataframe tbody tr th:only-of-type {\n",
       "        vertical-align: middle;\n",
       "    }\n",
       "\n",
       "    .dataframe tbody tr th {\n",
       "        vertical-align: top;\n",
       "    }\n",
       "\n",
       "    .dataframe thead th {\n",
       "        text-align: right;\n",
       "    }\n",
       "</style>\n",
       "<table border=\"1\" class=\"dataframe\">\n",
       "  <thead>\n",
       "    <tr style=\"text-align: right;\">\n",
       "      <th></th>\n",
       "      <th>Close</th>\n",
       "    </tr>\n",
       "  </thead>\n",
       "  <tbody>\n",
       "    <tr>\n",
       "      <th>0</th>\n",
       "      <td>-1.626551</td>\n",
       "    </tr>\n",
       "    <tr>\n",
       "      <th>1</th>\n",
       "      <td>-0.856143</td>\n",
       "    </tr>\n",
       "    <tr>\n",
       "      <th>2</th>\n",
       "      <td>-1.419730</td>\n",
       "    </tr>\n",
       "    <tr>\n",
       "      <th>3</th>\n",
       "      <td>0.599376</td>\n",
       "    </tr>\n",
       "    <tr>\n",
       "      <th>4</th>\n",
       "      <td>-1.235880</td>\n",
       "    </tr>\n",
       "  </tbody>\n",
       "</table>\n",
       "</div>"
      ],
      "text/plain": [
       "      Close\n",
       "0 -1.626551\n",
       "1 -0.856143\n",
       "2 -1.419730\n",
       "3  0.599376\n",
       "4 -1.235880"
      ]
     },
     "execution_count": 25,
     "metadata": {},
     "output_type": "execute_result"
    }
   ],
   "source": [
    "train_y = imputer2.transform(y_train)\n",
    "test_y = imputer2.transform(y_test)\n",
    "\n",
    "# sklearn devuelve una matriz Numpy\n",
    "# hacer un marco de datos\n",
    "y_train = pd.DataFrame(train_y, columns=y_train.columns)\n",
    "y_test = pd.DataFrame(test_y, columns=y_test.columns)\n",
    "\n",
    "y_test.head()"
   ]
  },
  {
   "cell_type": "code",
   "execution_count": 26,
   "metadata": {},
   "outputs": [],
   "source": [
    "# 1. Verificar variables con datos faltantes\n",
    "for var in X_test.columns:\n",
    "    if X_test[var].isnull().sum() > 1:\n",
    "        print(var, X_test[var].isnull().sum())\n",
    "\n",
    "for var in X_train.columns:\n",
    "    if X_train[var].isnull().sum() > 1:\n",
    "        print(var, X_train[var].isnull().sum())\n",
    "        \n",
    "for var in y_test.columns:\n",
    "    if y_test[var].isnull().sum() > 1:\n",
    "        print(var, y_test[var].isnull().sum())        \n",
    "        \n",
    "for var in y_train.columns:\n",
    "    if y_train[var].isnull().sum() > 1:\n",
    "        print(var, y_train[var].isnull().sum())  "
   ]
  },
  {
   "cell_type": "code",
   "execution_count": 27,
   "metadata": {},
   "outputs": [],
   "source": [
    "X_test.to_csv(r'C:\\Users\\Usuario\\Desktop\\A_Proyecto_Mineria\\X_test.csv', index = False)\n",
    "y_test.to_csv(r'C:\\Users\\Usuario\\Desktop\\A_Proyecto_Mineria\\y_test.csv', index = False)\n",
    "X_train.to_csv(r'C:\\Users\\Usuario\\Desktop\\A_Proyecto_Mineria\\X_train.csv', index = False)\n",
    "y_train.to_csv(r'C:\\Users\\Usuario\\Desktop\\A_Proyecto_Mineria\\y_train.csv', index = False)"
   ]
  },
  {
   "cell_type": "markdown",
   "metadata": {},
   "source": [
    "# Train a Random Forest Classifier Model"
   ]
  },
  {
   "cell_type": "code",
   "execution_count": 28,
   "metadata": {},
   "outputs": [],
   "source": [
    "feature_cols2  = ['Open', 'High', 'Low', 'Adj Close', 'Volume']\n",
    "\n",
    "X_train1 = X_train.astype(int)\n",
    "y_train1 = y_train.astype(int)\n",
    "X_test1 = X_test.astype(int)\n",
    "y_test1 = y_test.astype(int)\n",
    "\n",
    "X=X_train1[feature_cols2]\n"
   ]
  },
  {
   "cell_type": "code",
   "execution_count": 29,
   "metadata": {},
   "outputs": [
    {
     "data": {
      "text/plain": [
       "Open         int32\n",
       "High         int32\n",
       "Low          int32\n",
       "Adj Close    int32\n",
       "Volume       int32\n",
       "dtype: object"
      ]
     },
     "execution_count": 29,
     "metadata": {},
     "output_type": "execute_result"
    }
   ],
   "source": [
    "X.dtypes"
   ]
  },
  {
   "cell_type": "code",
   "execution_count": 30,
   "metadata": {},
   "outputs": [
    {
     "name": "stderr",
     "output_type": "stream",
     "text": [
      "<ipython-input-30-12ef844e69d9>:2: DataConversionWarning: A column-vector y was passed when a 1d array was expected. Please change the shape of y to (n_samples,), for example using ravel().\n",
      "  RF.fit(X_train1, y_train1)\n"
     ]
    },
    {
     "data": {
      "text/html": [
       "<div>\n",
       "<style scoped>\n",
       "    .dataframe tbody tr th:only-of-type {\n",
       "        vertical-align: middle;\n",
       "    }\n",
       "\n",
       "    .dataframe tbody tr th {\n",
       "        vertical-align: top;\n",
       "    }\n",
       "\n",
       "    .dataframe thead th {\n",
       "        text-align: right;\n",
       "    }\n",
       "</style>\n",
       "<table border=\"1\" class=\"dataframe\">\n",
       "  <thead>\n",
       "    <tr style=\"text-align: right;\">\n",
       "      <th></th>\n",
       "      <th>Details</th>\n",
       "    </tr>\n",
       "  </thead>\n",
       "  <tbody>\n",
       "    <tr>\n",
       "      <th>Machine Learning Classification Method</th>\n",
       "      <td>Random Forest Classifier</td>\n",
       "    </tr>\n",
       "    <tr>\n",
       "      <th>Train Accuracy</th>\n",
       "      <td>1</td>\n",
       "    </tr>\n",
       "    <tr>\n",
       "      <th>Test Accuracy</th>\n",
       "      <td>1</td>\n",
       "    </tr>\n",
       "    <tr>\n",
       "      <th>Top 1 Feature Predictor</th>\n",
       "      <td>Adj Close</td>\n",
       "    </tr>\n",
       "    <tr>\n",
       "      <th>Top 2 Feature Predictor</th>\n",
       "      <td>Low</td>\n",
       "    </tr>\n",
       "    <tr>\n",
       "      <th>Top 3 Feature Predictor</th>\n",
       "      <td>High</td>\n",
       "    </tr>\n",
       "    <tr>\n",
       "      <th>Top 4 Feature Predictor</th>\n",
       "      <td>Open</td>\n",
       "    </tr>\n",
       "    <tr>\n",
       "      <th>Top 5 Feature Predictor</th>\n",
       "      <td>Volume</td>\n",
       "    </tr>\n",
       "  </tbody>\n",
       "</table>\n",
       "</div>"
      ],
      "text/plain": [
       "                                                         Details\n",
       "Machine Learning Classification Method  Random Forest Classifier\n",
       "Train Accuracy                                                 1\n",
       "Test Accuracy                                                  1\n",
       "Top 1 Feature Predictor                                Adj Close\n",
       "Top 2 Feature Predictor                                      Low\n",
       "Top 3 Feature Predictor                                     High\n",
       "Top 4 Feature Predictor                                     Open\n",
       "Top 5 Feature Predictor                                   Volume"
      ]
     },
     "execution_count": 30,
     "metadata": {},
     "output_type": "execute_result"
    }
   ],
   "source": [
    "RF = RandomForestClassifier(max_depth=7, n_estimators=100)\n",
    "RF.fit(X_train1, y_train1)\n",
    "y_pred_RF= RF.predict(X_test1)\n",
    "\n",
    "df2 = pd.DataFrame()\n",
    "\n",
    "cols = ['Machine Learning Classification Method',\n",
    "        'Train Accuracy', \n",
    "        'Test Accuracy', \n",
    "        \"Top 1 Feature Predictor\",\n",
    "        \"Top 2 Feature Predictor\",\n",
    "        \"Top 3 Feature Predictor\",\n",
    "        \"Top 4 Feature Predictor\",\n",
    "        \"Top 5 Feature Predictor\"]\n",
    "\n",
    "\n",
    "df2.loc['Machine Learning Classification Method', 'Details'] = 'Random Forest Classifier'\n",
    "df2.loc['Train Accuracy', 'Details'] = RF.score(X_train1, y_train1) \n",
    "df2.loc['Test Accuracy', 'Details'] = RF.score(X_test1, y_test1)\n",
    "\n",
    "feature_importances = X.columns[np.argsort(RF.feature_importances_)][-5:]\n",
    "df2.loc['Top 1 Feature Predictor', 'Details'] = feature_importances[4]\n",
    "df2.loc['Top 2 Feature Predictor', 'Details'] = feature_importances[3]\n",
    "df2.loc['Top 3 Feature Predictor', 'Details'] = feature_importances[2]\n",
    "df2.loc['Top 4 Feature Predictor', 'Details'] = feature_importances[1]\n",
    "df2.loc['Top 5 Feature Predictor', 'Details'] = feature_importances[0]\n",
    "\n",
    "\n",
    "\n",
    "\n",
    "df2"
   ]
  },
  {
   "cell_type": "markdown",
   "metadata": {},
   "source": [
    "# SVR (Support Vector Regression Model)"
   ]
  },
  {
   "cell_type": "code",
   "execution_count": 31,
   "metadata": {},
   "outputs": [
    {
     "data": {
      "text/plain": [
       "SVR(C=0.1, kernel='linear')"
      ]
     },
     "execution_count": 31,
     "metadata": {},
     "output_type": "execute_result"
    }
   ],
   "source": [
    "#Instanciar el modelo \n",
    "SVR_model1 = SVR(kernel='linear', C=0.1, gamma='scale')\n",
    "\n",
    "SVR_model1\n"
   ]
  },
  {
   "cell_type": "code",
   "execution_count": 32,
   "metadata": {},
   "outputs": [
    {
     "name": "stderr",
     "output_type": "stream",
     "text": [
      "C:\\Users\\Usuario\\anaconda3\\lib\\site-packages\\sklearn\\utils\\validation.py:72: DataConversionWarning: A column-vector y was passed when a 1d array was expected. Please change the shape of y to (n_samples, ), for example using ravel().\n",
      "  return f(**kwargs)\n"
     ]
    },
    {
     "data": {
      "text/plain": [
       "SVR(C=0.1, kernel='linear')"
      ]
     },
     "execution_count": 32,
     "metadata": {},
     "output_type": "execute_result"
    }
   ],
   "source": [
    "SVR_model1.fit(X_train, y_train)\n"
   ]
  },
  {
   "cell_type": "code",
   "execution_count": 33,
   "metadata": {},
   "outputs": [],
   "source": [
    "y_pred=SVR_model1.predict(X_test)"
   ]
  },
  {
   "cell_type": "code",
   "execution_count": 34,
   "metadata": {},
   "outputs": [
    {
     "data": {
      "text/html": [
       "<div>\n",
       "<style scoped>\n",
       "    .dataframe tbody tr th:only-of-type {\n",
       "        vertical-align: middle;\n",
       "    }\n",
       "\n",
       "    .dataframe tbody tr th {\n",
       "        vertical-align: top;\n",
       "    }\n",
       "\n",
       "    .dataframe thead th {\n",
       "        text-align: right;\n",
       "    }\n",
       "</style>\n",
       "<table border=\"1\" class=\"dataframe\">\n",
       "  <thead>\n",
       "    <tr style=\"text-align: right;\">\n",
       "      <th></th>\n",
       "      <th>Details</th>\n",
       "    </tr>\n",
       "  </thead>\n",
       "  <tbody>\n",
       "    <tr>\n",
       "      <th>Machine Learning Regression Method</th>\n",
       "      <td>SVR</td>\n",
       "    </tr>\n",
       "    <tr>\n",
       "      <th>MSE</th>\n",
       "      <td>0.00109158</td>\n",
       "    </tr>\n",
       "    <tr>\n",
       "      <th>RMSE</th>\n",
       "      <td>0.033039</td>\n",
       "    </tr>\n",
       "    <tr>\n",
       "      <th>MAE</th>\n",
       "      <td>0.0269456</td>\n",
       "    </tr>\n",
       "  </tbody>\n",
       "</table>\n",
       "</div>"
      ],
      "text/plain": [
       "                                       Details\n",
       "Machine Learning Regression Method         SVR\n",
       "MSE                                 0.00109158\n",
       "RMSE                                  0.033039\n",
       "MAE                                  0.0269456"
      ]
     },
     "metadata": {},
     "output_type": "display_data"
    }
   ],
   "source": [
    "#calcular el RMSE (Raíz del error cuadrático medio)(Root Mean Squared Error)\n",
    "#calcular el RMSE (Raíz del error cuadrático medio)(Root Mean Squared Error)\n",
    "dfSVR = pd.DataFrame()\n",
    "dfSVR.loc['Machine Learning Regression Method', \n",
    "       'Details'] = 'SVR'\n",
    "MSE2 = dfSVR.loc['MSE', 'Details'] = metrics.mean_squared_error(y_test, y_pred) \n",
    "RMSE2 = dfSVR.loc['RMSE', 'Details'] = np.sqrt(metrics.mean_squared_error(y_test, y_pred))\n",
    "MAE2 = dfSVR.loc['MAE', 'Details'] = mean_absolute_error(y_test, y_pred)\n",
    "display(dfSVR)"
   ]
  },
  {
   "cell_type": "code",
   "execution_count": 35,
   "metadata": {},
   "outputs": [
    {
     "data": {
      "image/png": "[encoded data removed]",
      "text/plain": [
       "<Figure size 720x360 with 1 Axes>"
      ]
     },
     "metadata": {
      "needs_background": "light"
     },
     "output_type": "display_data"
    }
   ],
   "source": [
    "plt.figure(figsize=(10,5))\n",
    "plt.xlim([375,377])\n",
    "#plt.ylim([,379])\n",
    "plt.plot(y_test, label='true', color=\"red\")\n",
    "plt.plot(y_pred, label='pred')\n",
    "plt.legend()\n",
    "plt.show()"
   ]
  },
  {
   "cell_type": "code",
   "execution_count": 36,
   "metadata": {},
   "outputs": [],
   "source": [
    "#(RMSE) mide la cantidad de error \n",
    "#que hay entre dos conjuntos de datos. \n",
    "#En otras palabras, compara un valor predicho \n",
    "#y un valor observado o conocido. "
   ]
  },
  {
   "cell_type": "markdown",
   "metadata": {},
   "source": [
    "# MLPRegressor (Multi-layer Perceptron)"
   ]
  },
  {
   "cell_type": "code",
   "execution_count": 37,
   "metadata": {},
   "outputs": [
    {
     "name": "stderr",
     "output_type": "stream",
     "text": [
      "C:\\Users\\Usuario\\anaconda3\\lib\\site-packages\\sklearn\\utils\\validation.py:72: DataConversionWarning: A column-vector y was passed when a 1d array was expected. Please change the shape of y to (n_samples, ), for example using ravel().\n",
      "  return f(**kwargs)\n"
     ]
    }
   ],
   "source": [
    "net = MLPRegressor(hidden_layer_sizes=(100,), activation='logistic')\n",
    "\n",
    "#Crear MLP Regressor\n",
    "net.solver = 'lbfgs'\n",
    "net.max_iter=10000\n",
    "\n",
    "# Entrenar la red\n",
    "net.fit(X_train, y_train)\n",
    "\n",
    "#Predecir la red de salida\n",
    "\n",
    "y_predict = net.predict(X_test)\n",
    "\n",
    "#Gráficar valores predichos\n"
   ]
  },
  {
   "cell_type": "code",
   "execution_count": 38,
   "metadata": {},
   "outputs": [
    {
     "data": {
      "text/html": [
       "<div>\n",
       "<style scoped>\n",
       "    .dataframe tbody tr th:only-of-type {\n",
       "        vertical-align: middle;\n",
       "    }\n",
       "\n",
       "    .dataframe tbody tr th {\n",
       "        vertical-align: top;\n",
       "    }\n",
       "\n",
       "    .dataframe thead th {\n",
       "        text-align: right;\n",
       "    }\n",
       "</style>\n",
       "<table border=\"1\" class=\"dataframe\">\n",
       "  <thead>\n",
       "    <tr style=\"text-align: right;\">\n",
       "      <th></th>\n",
       "      <th>Details</th>\n",
       "    </tr>\n",
       "  </thead>\n",
       "  <tbody>\n",
       "    <tr>\n",
       "      <th>Machine Learning Regression Method</th>\n",
       "      <td>MLPRegressor</td>\n",
       "    </tr>\n",
       "    <tr>\n",
       "      <th>MSE</th>\n",
       "      <td>0.000249519</td>\n",
       "    </tr>\n",
       "    <tr>\n",
       "      <th>RMSE</th>\n",
       "      <td>0.0157962</td>\n",
       "    </tr>\n",
       "    <tr>\n",
       "      <th>MAE</th>\n",
       "      <td>0.0122015</td>\n",
       "    </tr>\n",
       "  </tbody>\n",
       "</table>\n",
       "</div>"
      ],
      "text/plain": [
       "                                         Details\n",
       "Machine Learning Regression Method  MLPRegressor\n",
       "MSE                                  0.000249519\n",
       "RMSE                                   0.0157962\n",
       "MAE                                    0.0122015"
      ]
     },
     "metadata": {},
     "output_type": "display_data"
    }
   ],
   "source": [
    "#calcular el RMSE (Raíz del error cuadrático medio)(Root Mean Squared Error)\n",
    "dfMLP = pd.DataFrame()\n",
    "dfMLP.loc['Machine Learning Regression Method', \n",
    "       'Details'] = 'MLPRegressor'\n",
    "MSE3 = dfMLP.loc['MSE', 'Details'] = metrics.mean_squared_error(y_test, y_predict) \n",
    "RMSE3 = dfMLP.loc['RMSE', 'Details'] = np.sqrt(metrics.mean_squared_error(y_test, y_predict))\n",
    "MAE3 = dfMLP.loc['MAE', 'Details'] = mean_absolute_error(y_test, y_predict)\n",
    "display(dfMLP)"
   ]
  },
  {
   "cell_type": "code",
   "execution_count": 39,
   "metadata": {},
   "outputs": [
    {
     "data": {
      "image/png": "[encoded data removed]",
      "text/plain": [
       "<Figure size 720x360 with 1 Axes>"
      ]
     },
     "metadata": {
      "needs_background": "light"
     },
     "output_type": "display_data"
    }
   ],
   "source": [
    "plt.figure(figsize=(10,5))\n",
    "plt.xlim([375,377])\n",
    "#plt.ylim([,379])\n",
    "plt.plot(y_test, label='true', color=\"red\")\n",
    "plt.plot(y_predict, label='pred')\n",
    "plt.legend()\n",
    "plt.show()"
   ]
  },
  {
   "cell_type": "code",
   "execution_count": 40,
   "metadata": {},
   "outputs": [
    {
     "data": {
      "image/png": "[encoded data removed]",
      "text/plain": [
       "<Figure size 720x360 with 1 Axes>"
      ]
     },
     "metadata": {
      "needs_background": "light"
     },
     "output_type": "display_data"
    }
   ],
   "source": [
    "plt.figure(figsize=(10,5))\n",
    "plt.plot(y_test, label='true', color=\"red\")\n",
    "plt.plot(y_predict, label='pred')\n",
    "plt.legend()\n",
    "plt.show()"
   ]
  },
  {
   "cell_type": "markdown",
   "metadata": {},
   "source": [
    "# Decision Tree Regressor"
   ]
  },
  {
   "cell_type": "code",
   "execution_count": 41,
   "metadata": {
    "scrolled": false
   },
   "outputs": [],
   "source": [
    "from sklearn.tree import DecisionTreeRegressor\n",
    "model = DecisionTreeRegressor(random_state = 0, max_depth = 2)\n",
    "model.fit(X_train, y_train)\n",
    "\n",
    "\n",
    "y_tree = model.predict(X_test)\n"
   ]
  },
  {
   "cell_type": "code",
   "execution_count": 42,
   "metadata": {},
   "outputs": [
    {
     "data": {
      "text/html": [
       "<div>\n",
       "<style scoped>\n",
       "    .dataframe tbody tr th:only-of-type {\n",
       "        vertical-align: middle;\n",
       "    }\n",
       "\n",
       "    .dataframe tbody tr th {\n",
       "        vertical-align: top;\n",
       "    }\n",
       "\n",
       "    .dataframe thead th {\n",
       "        text-align: right;\n",
       "    }\n",
       "</style>\n",
       "<table border=\"1\" class=\"dataframe\">\n",
       "  <thead>\n",
       "    <tr style=\"text-align: right;\">\n",
       "      <th></th>\n",
       "      <th>Details</th>\n",
       "    </tr>\n",
       "  </thead>\n",
       "  <tbody>\n",
       "    <tr>\n",
       "      <th>Machine Learning Regression Method</th>\n",
       "      <td>Decision Tree Regressor</td>\n",
       "    </tr>\n",
       "    <tr>\n",
       "      <th>MSE</th>\n",
       "      <td>0.0545709</td>\n",
       "    </tr>\n",
       "    <tr>\n",
       "      <th>RMSE</th>\n",
       "      <td>0.233604</td>\n",
       "    </tr>\n",
       "    <tr>\n",
       "      <th>MAE</th>\n",
       "      <td>0.187546</td>\n",
       "    </tr>\n",
       "  </tbody>\n",
       "</table>\n",
       "</div>"
      ],
      "text/plain": [
       "                                                    Details\n",
       "Machine Learning Regression Method  Decision Tree Regressor\n",
       "MSE                                               0.0545709\n",
       "RMSE                                               0.233604\n",
       "MAE                                                0.187546"
      ]
     },
     "metadata": {},
     "output_type": "display_data"
    }
   ],
   "source": [
    "#calcular el RMSE (Raíz del error cuadrático medio)(Root Mean Squared Error)\n",
    "dfMLP = pd.DataFrame()\n",
    "dfMLP.loc['Machine Learning Regression Method', \n",
    "       'Details'] = 'Decision Tree Regressor'\n",
    "MSE1 = dfMLP.loc['MSE', 'Details'] = metrics.mean_squared_error(y_test, y_tree) \n",
    "RMSE1 = dfMLP.loc['RMSE', 'Details'] = np.sqrt(metrics.mean_squared_error(y_test, \n",
    "                                                                y_tree))\n",
    "MAE1 = dfMLP.loc['MAE', 'Details'] = mean_absolute_error(y_test, y_tree)\n",
    "display(dfMLP)\n"
   ]
  },
  {
   "cell_type": "code",
   "execution_count": 43,
   "metadata": {},
   "outputs": [
    {
     "data": {
      "image/png": "[encoded data removed]",
      "text/plain": [
       "<Figure size 720x360 with 1 Axes>"
      ]
     },
     "metadata": {
      "needs_background": "light"
     },
     "output_type": "display_data"
    }
   ],
   "source": [
    "plt.figure(figsize=(10,5))\n",
    "plt.xlim([375,377])\n",
    "plt.plot(y_test, label='true', color=\"red\")\n",
    "plt.plot(y_tree, label='pred')\n",
    "plt.legend()\n",
    "plt.show()"
   ]
  },
  {
   "cell_type": "code",
   "execution_count": 45,
   "metadata": {
    "scrolled": true
   },
   "outputs": [
    {
     "data": {
      "text/plain": [
       "<matplotlib.legend.Legend at 0x121426c0d60>"
      ]
     },
     "execution_count": 45,
     "metadata": {},
     "output_type": "execute_result"
    },
    {
     "data": {
      "image/png": "[encoded data removed]",
      "text/plain": [
       "<Figure size 432x288 with 1 Axes>"
      ]
     },
     "metadata": {
      "needs_background": "light"
     },
     "output_type": "display_data"
    }
   ],
   "source": [
    "#Gráfica de Métricas\n",
    "etiquetas = ['RF', 'SVR', 'MLP']\n",
    "valores = [MSE1, MSE2, MSE3]\n",
    "valores2 = [RMSE1, RMSE2, RMSE3]\n",
    "valores3 = [MAE1, MAE2, MAE3]\n",
    "\n",
    "co = np.arange(len(valores3))\n",
    "an = 0.20\n",
    "\n",
    "fig, ax = plt.subplots()\n",
    "ax.bar(co - an/2, valores, an, label='MSE')\n",
    "ax.bar(co + an/2, valores2, an, label='RMSE')\n",
    "ax.bar(co + an*3/2, valores3, an, label='MAE')\n",
    "\n",
    "ax.set_title('Métricas de Rendimiento')\n",
    "ax.set_ylabel('Error')\n",
    "ax.set_xticks(co)\n",
    "ax.set_xticklabels(etiquetas)\n",
    "plt.legend()"
   ]
  },
  {
   "cell_type": "code",
   "execution_count": null,
   "metadata": {},
   "outputs": [],
   "source": []
  }
 ],
 "metadata": {
  "kernelspec": {
   "display_name": "Python 3",
   "language": "python",
   "name": "python3"
  },
  "language_info": {
   "codemirror_mode": {
    "name": "ipython",
    "version": 3
   },
   "file_extension": ".py",
   "mimetype": "text/x-python",
   "name": "python",
   "nbconvert_exporter": "python",
   "pygments_lexer": "ipython3",
   "version": "3.8.5"
  }
 },
 "nbformat": 4,
 "nbformat_minor": 4
}
